{
 "cells": [
  {
   "cell_type": "markdown",
   "id": "2423af3c-4cca-42c3-91d6-bc6329e4c07a",
   "metadata": {},
   "source": [
    "# STUDENT GRADE EVALUATOR"
   ]
  },
  {
   "cell_type": "code",
   "execution_count": 2,
   "id": "5ed1cb9c-6fcf-4c8e-a6aa-67cf1470f594",
   "metadata": {},
   "outputs": [
    {
     "name": "stdout",
     "output_type": "stream",
     "text": [
      "student 1: Score = 85, Grade = A\n",
      "student 2: Score = 72, Grade = B\n",
      "student 3: Score = 90, Grade = A\n",
      "student 4: Score = 55, Grade = D\n",
      "student 5: Score = 40, Grade = F\n",
      "score = 120, The student score must range from 0 to 100, Please enter a valid score\n",
      "None\n"
     ]
    }
   ],
   "source": [
    "#A LIST OF STUDENT SCORES\n",
    "student_scores= [85, 72, 90, 55, 40, 120]\n",
    "\n",
    "\n",
    "#Function to determine grade, This function also detects for invalid scores\n",
    "\n",
    "def grade_student(score, student_no=None):\n",
    "    if score >=80 and score <=100:\n",
    "        grade= 'A'\n",
    "    elif score >=70 and score<80:\n",
    "        grade= 'B'\n",
    "    elif score >=60 and score<70:\n",
    "        grade= 'C'\n",
    "    elif score >=50 and score<60:\n",
    "        grade= 'D'\n",
    "    elif score <50 and score >=0:\n",
    "        grade= 'F'\n",
    "    else:\n",
    "        print(f'score = {score}, The student score must range from 0 to 100, Please enter a valid score')\n",
    "        return None\n",
    "\n",
    "    if student_no:\n",
    "        return f'student {student_no}: Score = {score}, Grade = {grade}'\n",
    "    else:\n",
    "        return f'Score = {score}, Grade = {grade}'\n",
    "\n",
    "        \n",
    "#Function to loop through the scores in the list and provide grades for them\n",
    "\n",
    "for index, score in enumerate(student_scores):\n",
    "    index+=1\n",
    "    grade1=grade_student(score, student_no=index)\n",
    "    print(grade1)\n"
   ]
  },
  {
   "cell_type": "code",
   "execution_count": 3,
   "id": "3401abfa-d184-431b-b2ba-a3eaa187e12d",
   "metadata": {},
   "outputs": [
    {
     "name": "stdout",
     "output_type": "stream",
     "text": [
      "score = 150, The student score must range from 0 to 100, Please enter a valid score\n"
     ]
    }
   ],
   "source": [
    "grade_student(150)"
   ]
  },
  {
   "cell_type": "code",
   "execution_count": 4,
   "id": "7ccecac7-68b2-4743-b7e3-e50178339261",
   "metadata": {},
   "outputs": [
    {
     "data": {
      "text/plain": [
       "'Score = 23, Grade = F'"
      ]
     },
     "execution_count": 4,
     "metadata": {},
     "output_type": "execute_result"
    }
   ],
   "source": [
    "grade_student(23)"
   ]
  },
  {
   "cell_type": "code",
   "execution_count": 5,
   "id": "d1d670f7-19b5-4828-9310-28fb2785f582",
   "metadata": {},
   "outputs": [
    {
     "data": {
      "text/plain": [
       "'student 9: Score = 23, Grade = F'"
      ]
     },
     "execution_count": 5,
     "metadata": {},
     "output_type": "execute_result"
    }
   ],
   "source": [
    "grade_student(23,9)"
   ]
  },
  {
   "cell_type": "code",
   "execution_count": null,
   "id": "52a91175-dd7c-4bc9-aa9d-4ceee3b5d948",
   "metadata": {},
   "outputs": [],
   "source": []
  }
 ],
 "metadata": {
  "kernelspec": {
   "display_name": "Python 3 (ipykernel)",
   "language": "python",
   "name": "python3"
  },
  "language_info": {
   "codemirror_mode": {
    "name": "ipython",
    "version": 3
   },
   "file_extension": ".py",
   "mimetype": "text/x-python",
   "name": "python",
   "nbconvert_exporter": "python",
   "pygments_lexer": "ipython3",
   "version": "3.13.5"
  }
 },
 "nbformat": 4,
 "nbformat_minor": 5
}
